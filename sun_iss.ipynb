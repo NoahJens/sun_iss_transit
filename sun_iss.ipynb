{
 "cells": [
  {
   "cell_type": "code",
   "execution_count": 9,
   "id": "b2789ed5",
   "metadata": {},
   "outputs": [],
   "source": [
    "from skyfield.api import load, Topos, EarthSatellite, Angle, wgs84\n",
    "import json\n",
    "from skyfield.timelib import Time\n",
    "from datetime import datetime\n",
    "from scipy.optimize import minimize_scalar\n",
    "import numpy as np\n",
    "import pytz\n",
    "import pandas as pd\n",
    "import os "
   ]
  },
  {
   "cell_type": "code",
   "execution_count": 19,
   "id": "bed34023",
   "metadata": {},
   "outputs": [],
   "source": [
    "def angular_separation(t):\n",
    "    \"\"\"Angular separation (degrees) between Sun and ISS as seen by observer\"\"\"\n",
    "    sun_vec = observer.at(t).observe(sun).apparent()\n",
    "    iss_vec = observer.at(t).observe(iss).apparent()\n",
    "\n",
    "    sun_alt, sun_az, sun_dist = sun_vec.altaz()\n",
    "    sun_alt = sun_alt.degrees\n",
    "    \n",
    "    return sun_vec.separation_from(iss_vec).degrees, sun_alt\n",
    "\n",
    "def convert_t(t):\n",
    "    \"\"\"\n",
    "    Convert a Skyfield Time or a datetime object to Berlin time and format as string.\n",
    "    \"\"\"\n",
    "    if isinstance(t, Time):  # Skyfield Time object\n",
    "        t_utc = t.utc_datetime()\n",
    "    elif isinstance(t, datetime):  # regular datetime\n",
    "        t_utc = t\n",
    "    else:\n",
    "        raise TypeError(\"t must be a Skyfield Time or datetime object\")\n",
    "\n",
    "    t_berlin = t_utc.astimezone(pytz.timezone('Europe/Berlin'))\n",
    "    return t_berlin.strftime(\"%Y-%m-%d %H:%M:%S %Z\")"
   ]
  },
  {
   "cell_type": "code",
   "execution_count": 11,
   "id": "4d51cd7d",
   "metadata": {},
   "outputs": [
    {
     "name": "stderr",
     "output_type": "stream",
     "text": [
      "[#################################] 100% ISS.csv\n"
     ]
    },
    {
     "name": "stdout",
     "output_type": "stream",
     "text": [
      "Updated ISS position\n"
     ]
    }
   ],
   "source": [
    "ts = load.timescale()\n",
    "\n",
    "planets = load('de421.bsp')\n",
    "earth, sun = planets['earth'], planets['sun']\n",
    "\n",
    "# Define time\n",
    "t = ts.now()\n",
    "\n",
    "# Define observation point\n",
    "observer = earth + wgs84.latlon(53.788419, 9.569346) # Sommerland \n",
    "# observer = earth + Topos('52.5245 N', '13.41 E') # Berlin\n",
    "\n",
    "# Load ISS position data from CelesTrak\n",
    "max_days = 7.0    # download again once 7 days old\n",
    "name = 'ISS.csv'  # custom filename, not 'gp.php'\n",
    "\n",
    "base = 'https://celestrak.org/NORAD/elements/gp.php'\n",
    "url = base + '?GROUP=stations&FORMAT=json'\n",
    "\n",
    "if not load.exists(name) or load.days_old(name) >= max_days:\n",
    "    load.download(url, filename=name)\n",
    "    print(\"Updated ISS position\")\n",
    "\n",
    "# Load ISS position\n",
    "with load.open('ISS.csv', mode='r') as f:\n",
    "    data = json.load(f) \n",
    "\n",
    "# Find the ISS row (using NORAD ID is safest)\n",
    "iss_row = next(row for row in data if row.get(\"NORAD_CAT_ID\") == 25544)\n",
    "\n",
    "# Create the EarthSatellite object\n",
    "iss_geo = EarthSatellite.from_omm(ts, iss_row) # gets the geocentric information on the iss\n",
    "\n",
    "iss = earth + iss_geo # converts to solar system related positional information"
   ]
  },
  {
   "cell_type": "markdown",
   "id": "c0501a6d",
   "metadata": {},
   "source": [
    "### Load planets, define time and observation point"
   ]
  },
  {
   "cell_type": "code",
   "execution_count": 21,
   "id": "33eabb1e",
   "metadata": {},
   "outputs": [
    {
     "name": "stdout",
     "output_type": "stream",
     "text": [
      "SUN \n",
      "alt:\t-36.24 deg \n",
      "az:\t3.42 deg \n",
      "\n",
      "ISS \n",
      "alt:\t-69.53 deg \n",
      "az:\t110.00 deg\n",
      "0.53 deg\n"
     ]
    }
   ],
   "source": [
    "ts = load.timescale()\n",
    "\n",
    "planets = load('de421.bsp')\n",
    "earth, sun = planets['earth'], planets['sun']\n",
    "\n",
    "# Define time\n",
    "t = ts.now()\n",
    "\n",
    "# Define observation point\n",
    "observer = earth + Topos('53.7985 N', '9.54704 E') # Sommerland \n",
    "# observer = earth + Topos('52.5245 N', '13.41 E') # Berlin\n",
    "\n",
    "\n",
    "sun_vec = observer.at(t).observe(sun).apparent()\n",
    "iss_vec = observer.at(t).observe(iss).apparent()\n",
    "\n",
    "sun_alt, sun_az, sun_dist = sun_vec.altaz()\n",
    "iss_alt, iss_az, iss_dist = iss_vec.altaz()\n",
    "\n",
    "sun_alt = sun_alt.degrees\n",
    "sun_az = sun_az.degrees\n",
    "\n",
    "iss_alt = iss_alt.degrees\n",
    "iss_az = iss_az.degrees\n",
    "\n",
    "print(f\"SUN \\nalt:\\t{sun_alt:.2f} deg \\naz:\\t{sun_az:.2f} deg \\n\")\n",
    "print(f\"ISS \\nalt:\\t{iss_alt:.2f} deg \\naz:\\t{iss_az:.2f} deg\")\n",
    "\n",
    "RADIUS_SUN_KM = 695700.0\n",
    "apparent_diameter = Angle(radians = 2.0 * np.arcsin(RADIUS_SUN_KM / sun_dist.km))\n",
    "\n",
    "print(f\"{apparent_diameter.degrees:.2f} deg\")"
   ]
  },
  {
   "cell_type": "code",
   "execution_count": 22,
   "id": "cfa04a5c",
   "metadata": {},
   "outputs": [
    {
     "name": "stdout",
     "output_type": "stream",
     "text": [
      "<class 'skyfield.timelib.Time'>\n"
     ]
    }
   ],
   "source": [
    "print(type(t))"
   ]
  },
  {
   "cell_type": "markdown",
   "id": "008c392d",
   "metadata": {},
   "source": [
    "### Cal"
   ]
  },
  {
   "cell_type": "code",
   "execution_count": 23,
   "id": "7e32b96d",
   "metadata": {},
   "outputs": [
    {
     "name": "stdout",
     "output_type": "stream",
     "text": [
      "Start date: 2025-09-23 01:25:17 CEST\n",
      "2025-09-25 15:28:00+00:00\t14.25\t2.27\n",
      "2025-09-26 14:40:00+00:00\t20.15\t8.24\n",
      "2025-10-06 14:32:00+00:00\t17.35\t9.65\n",
      "2025-10-06 09:44:00+00:00\t28.22\t6.81\n",
      "2025-10-07 13:44:00+00:00\t22.24\t8.89\n",
      "2025-10-11 12:04:00+00:00\t27.86\t7.76\n",
      "2025-10-11 07:16:00+00:00\t12.06\t5.39\n",
      "2025-10-18 09:32:00+00:00\t23.32\t8.18\n"
     ]
    }
   ],
   "source": [
    "# Start time as Skyfield time (not datetime!)\n",
    "start_date = ts.now()\n",
    "print(\"Start date:\", convert_t(start_date))\n",
    "\n",
    "days_to_scan = 30\n",
    "threshold_deg = 10  # Sun angular diameter ~0.5 deg\n",
    "candidate_times = []\n",
    "\n",
    "minutes_per_step = 4  # every 5 minutes\n",
    "\n",
    "for day_offset in range(days_to_scan):\n",
    "    day = start_date + day_offset   # Skyfield Time object (not datetime)\n",
    "    y, m, d, h, mi, s = day.utc     # UTC components\n",
    "\n",
    "    # Generate times throughout the day\n",
    "    hours = np.arange(0, 24)\n",
    "    minutes = np.arange(0, 60, minutes_per_step)\n",
    "    hh, mm = np.meshgrid(hours, minutes)\n",
    "    hh = hh.flatten()\n",
    "    mm = mm.flatten()\n",
    "\n",
    "    times = ts.utc(y, m, d, hh, mm)  # still Skyfield Time objects\n",
    "\n",
    "    # Vectorized angular separation check\n",
    "    for t in times: \n",
    "        # print(t.utc_datetime().strftime(\"%Y-%m-%d %H:%M:%S %Z\"))\n",
    "        separation, sun_alt = angular_separation(t)\n",
    "        # print(sun_alt)\n",
    "\n",
    "        if separation <= threshold_deg and sun_alt > 10:\n",
    "            print(f'{t.utc_datetime()}\\t{sun_alt:.2f}\\t{separation:.2f}')\n",
    "            candidate_times.append(t)"
   ]
  },
  {
   "cell_type": "code",
   "execution_count": 24,
   "id": "e64f8d43",
   "metadata": {},
   "outputs": [
    {
     "name": "stdout",
     "output_type": "stream",
     "text": [
      "ISS EPOCH: 2025-09-20 05:40:29 CEST\n",
      "\n",
      "TIME                      SEPARATION [deg]   SUN ALT [deg]\n",
      "28\n",
      "test\n",
      "0\n",
      "14\n",
      "test\n",
      "0\n",
      "0\n",
      "10\n",
      "test\n",
      "13\n",
      "test\n",
      "0\n",
      "                   time_utc  separation_deg  sun_alt_deg\n",
      "0 2025-09-25 15:26:15+00:00        2.099653    14.261309\n",
      "1 2025-10-06 14:30:06+00:00        1.412119    17.296095\n",
      "2 2025-10-11 12:02:05+00:00        1.557054    27.869618\n",
      "3 2025-10-11 07:14:06+00:00        2.285505    12.025662\n"
     ]
    }
   ],
   "source": [
    "print(f\"ISS EPOCH: {convert_t(iss_geo.epoch)}\\n\")\n",
    "print(f\"{'TIME':<25} {'SEPARATION [deg]':<18} {'SUN ALT [deg]':<10}\")\n",
    "\n",
    "results = []\n",
    "\n",
    "window_minutes = 2\n",
    "offset_minutes= window_minutes / (24 * 60)\n",
    "\n",
    "for cand in candidate_times:  # cand is a Skyfield Time object\n",
    "    start_fine = cand - offset_minutes\n",
    "\n",
    "    fine_seconds = np.arange(0, (2 * window_minutes * 60) + 1, 1)\n",
    "    fine_offsets = fine_seconds / 86400.0  # seconds -> days\n",
    "    times_fine = start_fine + fine_offsets  # Skyfield Time array\n",
    "\n",
    "    separations = []\n",
    "    altitudes = []\n",
    "\n",
    "    for t in times_fine:\n",
    "        separation, sun_alt = angular_separation(t)\n",
    "        if separation <= 3:\n",
    "            separations.append(separation)\n",
    "            altitudes.append(sun_alt)\n",
    "    print(len(separations))\n",
    "\n",
    "    if len(separations) > 0:       \n",
    "        print(\"test\")\n",
    "        min_idx = np.argmin(separations)\n",
    "        best_time = times_fine[min_idx]\n",
    "        min_sep   = separations[min_idx]\n",
    "        min_alt = altitudes[min_idx]\n",
    "        \n",
    "        results.append({\n",
    "        \"time_utc\": best_time.utc_datetime(),\n",
    "        \"separation_deg\": min_sep,\n",
    "        \"sun_alt_deg\": min_alt\n",
    "        })\n",
    "\n",
    "    df = pd.DataFrame(results)\n",
    "print(df)\n",
    "        # print(f\"{best_time.utc_iso():<25} {min_sep:<18.4f} {sun_alt:<10.4f}\")"
   ]
  },
  {
   "cell_type": "markdown",
   "id": "18ba7cf2",
   "metadata": {},
   "source": []
  },
  {
   "cell_type": "code",
   "execution_count": 2,
   "id": "3b10c132",
   "metadata": {},
   "outputs": [
    {
     "name": "stdout",
     "output_type": "stream",
     "text": [
      "False\n"
     ]
    }
   ],
   "source": [
    "print(os.path.isfile(\"/ISS.csv\"))"
   ]
  },
  {
   "cell_type": "code",
   "execution_count": null,
   "id": "04acb059",
   "metadata": {},
   "outputs": [
    {
     "name": "stdout",
     "output_type": "stream",
     "text": [
      "transits_20250923.csv\n"
     ]
    }
   ],
   "source": []
  },
  {
   "cell_type": "code",
   "execution_count": null,
   "id": "faf2c00f",
   "metadata": {},
   "outputs": [],
   "source": []
  },
  {
   "cell_type": "code",
   "execution_count": 6,
   "id": "de05d51a",
   "metadata": {},
   "outputs": [
    {
     "name": "stdout",
     "output_type": "stream",
     "text": [
      "2022-09-25 00:08:26 CEST\n",
      "Sum of 3 vectors:\n",
      " 'de421.bsp' segment 0 SOLAR SYSTEM BARYCENTER -> 3 EARTH BARYCENTER\n",
      " 'de421.bsp' segment 3 EARTH BARYCENTER -> 399 EARTH\n",
      " EarthSatellite 399 EARTH -> ISS (ZARYA) catalog #25544 epoch 2022-09-24 22:08:26 UTC\n",
      "2025-09-25 00:00:00+00:00\n"
     ]
    },
    {
     "name": "stderr",
     "output_type": "stream",
     "text": [
      "/opt/homebrew/Caskroom/miniconda/base/envs/sun_iss/lib/python3.12/site-packages/jplephem/spk.py:226: RuntimeWarning: invalid value encountered in cast\n",
      "  index = (index1 + index2 + index3).astype(int)\n",
      "/opt/homebrew/Caskroom/miniconda/base/envs/sun_iss/lib/python3.12/site-packages/skyfield/curvelib.py:22: RuntimeWarning: invalid value encountered in cast\n",
      "  i = i.astype(int)\n"
     ]
    },
    {
     "ename": "ValueError",
     "evalue": "light-travel time failed to converge",
     "output_type": "error",
     "traceback": [
      "\u001b[31m---------------------------------------------------------------------------\u001b[39m",
      "\u001b[31mValueError\u001b[39m                                Traceback (most recent call last)",
      "\u001b[36mCell\u001b[39m\u001b[36m \u001b[39m\u001b[32mIn[6]\u001b[39m\u001b[32m, line 81\u001b[39m\n\u001b[32m     79\u001b[39m \u001b[38;5;28mprint\u001b[39m(t.utc_datetime())\n\u001b[32m     80\u001b[39m \u001b[38;5;66;03m# print(t.utc_datetime().strftime(\"%Y-%m-%d %H:%M:%S %Z\"))\u001b[39;00m\n\u001b[32m---> \u001b[39m\u001b[32m81\u001b[39m separation, sun_alt = \u001b[43mangular_separation\u001b[49m\u001b[43m(\u001b[49m\u001b[43mt\u001b[49m\u001b[43m,\u001b[49m\u001b[43m \u001b[49m\u001b[43mobserver\u001b[49m\u001b[43m,\u001b[49m\u001b[43m \u001b[49m\u001b[43msun\u001b[49m\u001b[43m,\u001b[49m\u001b[43m \u001b[49m\u001b[43miss\u001b[49m\u001b[43m)\u001b[49m\n\u001b[32m     82\u001b[39m \u001b[38;5;66;03m# print(sun_alt)\u001b[39;00m\n\u001b[32m     84\u001b[39m \u001b[38;5;28;01mif\u001b[39;00m separation <= coarse_threshold_deg \u001b[38;5;129;01mand\u001b[39;00m sun_alt > \u001b[32m10\u001b[39m:\n\u001b[32m     85\u001b[39m     \u001b[38;5;66;03m# print(f'{t.utc_datetime()}\\t{sun_alt:.2f}\\t{separation:.2f}')\u001b[39;00m\n",
      "\u001b[36mFile \u001b[39m\u001b[32m~/Documents/Projekte/sun_iss_transit/utils.py:12\u001b[39m, in \u001b[36mangular_separation\u001b[39m\u001b[34m(t, observer, sun, iss)\u001b[39m\n\u001b[32m     10\u001b[39m \u001b[38;5;250m\u001b[39m\u001b[33;03m\"\"\"Angular separation (degrees) between Sun and ISS as seen by observer\"\"\"\u001b[39;00m\n\u001b[32m     11\u001b[39m sun_vec = observer.at(t).observe(sun).apparent()\n\u001b[32m---> \u001b[39m\u001b[32m12\u001b[39m iss_vec = \u001b[43mobserver\u001b[49m\u001b[43m.\u001b[49m\u001b[43mat\u001b[49m\u001b[43m(\u001b[49m\u001b[43mt\u001b[49m\u001b[43m)\u001b[49m\u001b[43m.\u001b[49m\u001b[43mobserve\u001b[49m\u001b[43m(\u001b[49m\u001b[43miss\u001b[49m\u001b[43m)\u001b[49m.apparent()\n\u001b[32m     14\u001b[39m sun_alt, sun_az, sun_dist = sun_vec.altaz()\n\u001b[32m     15\u001b[39m sun_alt = sun_alt.degrees\n",
      "\u001b[36mFile \u001b[39m\u001b[32m/opt/homebrew/Caskroom/miniconda/base/envs/sun_iss/lib/python3.12/site-packages/skyfield/positionlib.py:688\u001b[39m, in \u001b[36mBarycentric.observe\u001b[39m\u001b[34m(self, body)\u001b[39m\n\u001b[32m    673\u001b[39m \u001b[38;5;28;01mdef\u001b[39;00m\u001b[38;5;250m \u001b[39m\u001b[34mobserve\u001b[39m(\u001b[38;5;28mself\u001b[39m, body):\n\u001b[32m    674\u001b[39m \u001b[38;5;250m    \u001b[39m\u001b[33;03m\"\"\"Compute the `Astrometric` position of a body from this location.\u001b[39;00m\n\u001b[32m    675\u001b[39m \n\u001b[32m    676\u001b[39m \u001b[33;03m    To compute the body's astrometric position, it is first asked\u001b[39;00m\n\u001b[32m   (...)\u001b[39m\u001b[32m    686\u001b[39m \n\u001b[32m    687\u001b[39m \u001b[33;03m    \"\"\"\u001b[39;00m\n\u001b[32m--> \u001b[39m\u001b[32m688\u001b[39m     p, v, t, light_time = \u001b[43mbody\u001b[49m\u001b[43m.\u001b[49m\u001b[43m_observe_from_bcrs\u001b[49m\u001b[43m(\u001b[49m\u001b[38;5;28;43mself\u001b[39;49m\u001b[43m)\u001b[49m\n\u001b[32m    689\u001b[39m     astrometric = Astrometric(p, v, t, \u001b[38;5;28mself\u001b[39m.target, body.target)\n\u001b[32m    690\u001b[39m     astrometric._ephemeris = \u001b[38;5;28mself\u001b[39m._ephemeris\n",
      "\u001b[36mFile \u001b[39m\u001b[32m/opt/homebrew/Caskroom/miniconda/base/envs/sun_iss/lib/python3.12/site-packages/skyfield/vectorlib.py:104\u001b[39m, in \u001b[36mVectorFunction._observe_from_bcrs\u001b[39m\u001b[34m(self, observer)\u001b[39m\n\u001b[32m     99\u001b[39m \u001b[38;5;28;01mif\u001b[39;00m \u001b[38;5;28mself\u001b[39m.center != \u001b[32m0\u001b[39m:\n\u001b[32m    100\u001b[39m     \u001b[38;5;28;01mraise\u001b[39;00m \u001b[38;5;167;01mValueError\u001b[39;00m(\u001b[33m'\u001b[39m\u001b[33myou can only observe() a body whose vector\u001b[39m\u001b[33m'\u001b[39m\n\u001b[32m    101\u001b[39m                      \u001b[33m'\u001b[39m\u001b[33m center is the Solar System Barycenter,\u001b[39m\u001b[33m'\u001b[39m\n\u001b[32m    102\u001b[39m                      \u001b[33m'\u001b[39m\u001b[33m but this vector has the center \u001b[39m\u001b[38;5;132;01m{0}\u001b[39;00m\u001b[33m'\u001b[39m\n\u001b[32m    103\u001b[39m                      .format(\u001b[38;5;28mself\u001b[39m.center_name))\n\u001b[32m--> \u001b[39m\u001b[32m104\u001b[39m \u001b[38;5;28;01mreturn\u001b[39;00m \u001b[43m_correct_for_light_travel_time\u001b[49m\u001b[43m(\u001b[49m\u001b[43mobserver\u001b[49m\u001b[43m,\u001b[49m\u001b[43m \u001b[49m\u001b[38;5;28;43mself\u001b[39;49m\u001b[43m)\u001b[49m\n",
      "\u001b[36mFile \u001b[39m\u001b[32m/opt/homebrew/Caskroom/miniconda/base/envs/sun_iss/lib/python3.12/site-packages/skyfield/vectorlib.py:204\u001b[39m, in \u001b[36m_correct_for_light_travel_time\u001b[39m\u001b[34m(observer, target)\u001b[39m\n\u001b[32m    202\u001b[39m     light_time0 = light_time\n\u001b[32m    203\u001b[39m \u001b[38;5;28;01melse\u001b[39;00m:\n\u001b[32m--> \u001b[39m\u001b[32m204\u001b[39m     \u001b[38;5;28;01mraise\u001b[39;00m \u001b[38;5;167;01mValueError\u001b[39;00m(\u001b[33m'\u001b[39m\u001b[33mlight-travel time failed to converge\u001b[39m\u001b[33m'\u001b[39m)\n\u001b[32m    205\u001b[39m \u001b[38;5;28;01mreturn\u001b[39;00m tposition - cposition, tvelocity - cvelocity, t, light_time\n",
      "\u001b[31mValueError\u001b[39m: light-travel time failed to converge"
     ]
    }
   ],
   "source": [
    "from skyfield.api import wgs84, load, EarthSatellite\n",
    "from transit import find_transit \n",
    "from datetime import datetime\n",
    "\n",
    "import smtplib\n",
    "from email.mime.text import MIMEText\n",
    "from email.mime.multipart import MIMEMultipart\n",
    "from email.mime.base import MIMEBase\n",
    "from email import encoders\n",
    "import os\n",
    "import requests\n",
    "from utils import convert_t, angular_separation\n",
    "import numpy as np \n",
    "import pandas as pd \n",
    "\n",
    "ts = load.timescale()\n",
    "\n",
    "planets = load('de421.bsp')\n",
    "earth, sun = planets['earth'], planets['sun']\n",
    "\n",
    "owner = \"NoahJens\"\n",
    "repo = \"sun_iss_transit\"\n",
    "file_path = \"ISS.csv\"\n",
    "branch = \"main\"\n",
    "\n",
    "# Calculate iss data \n",
    "url_commit = f\"https://api.github.com/repos/{owner}/{repo}/commits?path={file_path}&sha={branch}\"\n",
    "r = requests.get(url_commit)\n",
    "r.raise_for_status()\n",
    "latest_commit_sha = r.json()[0][\"sha\"]\n",
    "\n",
    "# Fetch CSV at that commit\n",
    "url_raw_commit = f\"https://raw.githubusercontent.com/{owner}/{repo}/{latest_commit_sha}/{file_path}\"\n",
    "r = requests.get(url_raw_commit)\n",
    "r.raise_for_status()\n",
    "data = r.json()\n",
    "\n",
    "# Find the ISS row (using NORAD ID is safest)\n",
    "iss_row = next(row for row in data if row.get(\"NORAD_CAT_ID\") == 25544)\n",
    "\n",
    "# Create the EarthSatellite object\n",
    "iss_geo = EarthSatellite.from_omm(ts, iss_row) # gets the geocentric information on the iss\n",
    "epoch = convert_t(iss_geo.epoch)\n",
    "\n",
    "print(epoch)\n",
    "iss = earth + iss_geo\n",
    "print(iss)\n",
    "\n",
    "# Calculate transits \n",
    "observer = earth + wgs84.latlon(53.7985, 9.5470)\n",
    "\n",
    "######################################################\n",
    "# calc transit \n",
    "# Start time as Skyfield time (not datetime!)\n",
    "start_date = ts.now()\n",
    "# print(\"Start date:\", convert_t(start_date))\n",
    "\n",
    "days_to_scan = 7\n",
    "coarse_threshold_deg = 10  # Sun angular diameter ~0.5 deg\n",
    "candidate_times = []\n",
    "\n",
    "minutes_per_step = 4  # every 5 minutes\n",
    "\n",
    "for day_offset in range(days_to_scan):\n",
    "    day = start_date + day_offset   # Skyfield Time object (not datetime)\n",
    "    y, m, d, h, mi, s = day.utc     # UTC components\n",
    "\n",
    "    # Generate times throughout the day\n",
    "    hours = np.arange(0, 24)\n",
    "    minutes = np.arange(0, 60, minutes_per_step)\n",
    "    hh, mm = np.meshgrid(hours, minutes)\n",
    "    hh = hh.flatten()\n",
    "    mm = mm.flatten()\n",
    "\n",
    "    times = ts.utc(y, m, d, hh, mm)  # still Skyfield Time objects\n",
    "\n",
    "    # Vectorized angular separation check\n",
    "    for t in times: \n",
    "        print(t.utc_datetime())\n",
    "        # print(t.utc_datetime().strftime(\"%Y-%m-%d %H:%M:%S %Z\"))\n",
    "        separation, sun_alt = angular_separation(t, observer, sun, iss)\n",
    "        # print(sun_alt)\n",
    "\n",
    "        if separation <= coarse_threshold_deg and sun_alt > 10:\n",
    "            # print(f'{t.utc_datetime()}\\t{sun_alt:.2f}\\t{separation:.2f}')\n",
    "            candidate_times.append(t)\n",
    "\n",
    "window_minutes = 2\n",
    "offset_minutes= window_minutes / (24 * 60)\n",
    "fine_threshold_deg = 2\n",
    "\n",
    "records = []\n",
    "\n",
    "for cand in candidate_times:\n",
    "    start_fine = cand - offset_minutes\n",
    "    fine_seconds = np.arange(0, (2 * window_minutes * 60) + 1, 1)\n",
    "    fine_offsets = fine_seconds / 86400.0\n",
    "    times_fine = start_fine + fine_offsets\n",
    "\n",
    "    pairs = []\n",
    "    for t in times_fine:\n",
    "        separation, sun_alt = angular_separation(t, observer, sun, iss)\n",
    "        if separation <= fine_threshold_deg:\n",
    "            pairs.append((t, separation, sun_alt))\n",
    "\n",
    "    if pairs:\n",
    "        best_time, min_sep, min_alt = min(pairs, key=lambda x: x[1])\n",
    "        records.append((convert_t(best_time), min_sep, min_alt))\n",
    "\n",
    "transit = pd.DataFrame(records, columns=[\"Time CEST\", \"Separation [deg]\", \"Sun altitude [deg]\"])\n",
    "#############################################################\n",
    "transit[\"Epoch\"] = epoch\n",
    "transit.to_csv(\"transits.csv\", index=False)\n",
    "\n",
    "if not transit.empty:\n",
    "\n",
    "    # File to send\n",
    "    filename = \"transits.csv\"\n",
    "    email_filename = f\"transits_{datetime.now().strftime('%Y%m%d')}.csv\"\n",
    "\n",
    "    # Email setup\n",
    "    msg = MIMEMultipart()\n",
    "    msg[\"From\"] = os.environ[\"EMAIL_FROM\"]\n",
    "    msg[\"To\"] = os.environ[\"EMAIL_TO\"]\n",
    "    msg[\"Subject\"] = \"Sun ISS transits\"\n",
    "\n",
    "    # Body\n",
    "    msg.attach(MIMEText(\"Please find the CSV attached with a 7 day forecast\", \"plain\"))\n",
    "\n",
    "    # Attach CSV\n",
    "    with open(filename, \"rb\") as f:\n",
    "        part = MIMEBase(\"application\", \"octet-stream\")\n",
    "        part.set_payload(f.read())\n",
    "    encoders.encode_base64(part)\n",
    "    part.add_header(\"Content-Disposition\", f\"attachment; filename={email_filename}\")\n",
    "    msg.attach(part)\n",
    "\n",
    "    # Send\n",
    "    with smtplib.SMTP_SSL(\"smtp.gmail.com\", 465) as server:\n",
    "        server.login(os.environ[\"EMAIL_FROM\"], os.environ[\"EMAIL_PASSWORD\"])\n",
    "        server.send_message(msg)\n",
    "\n",
    "else:\n",
    "    print(\"No transit events — email not sent.\")\n",
    "\n",
    "\n"
   ]
  },
  {
   "cell_type": "code",
   "execution_count": null,
   "id": "e37765be",
   "metadata": {},
   "outputs": [],
   "source": []
  }
 ],
 "metadata": {
  "kernelspec": {
   "display_name": "sun_iss",
   "language": "python",
   "name": "python3"
  },
  "language_info": {
   "codemirror_mode": {
    "name": "ipython",
    "version": 3
   },
   "file_extension": ".py",
   "mimetype": "text/x-python",
   "name": "python",
   "nbconvert_exporter": "python",
   "pygments_lexer": "ipython3",
   "version": "3.12.9"
  }
 },
 "nbformat": 4,
 "nbformat_minor": 5
}
